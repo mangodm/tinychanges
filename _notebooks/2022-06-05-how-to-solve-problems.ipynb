{
 "cells": [
  {
   "cell_type": "markdown",
   "metadata": {},
   "source": [
    "# (EN) How to Solve Problems\n",
    "> Learn how to solve problems in general.\n",
    "\n",
    "- toc: true \n",
    "- badges: true\n",
    "- comments: false\n",
    "- categories: [dsa, python, udacity]\n",
    "- image: images/chart-preview.png"
   ]
  },
  {
   "cell_type": "markdown",
   "metadata": {},
   "source": [
    "These are notes taken from the Udacity's [Data Structures and Algorithms Nanodegree program](https://www.udacity.com/course/data-structures-and-algorithms-nanodegree--nd256).\n",
    "\n",
    "## How to Solve Problems\n",
    "\n",
    "Solving a problem is one of the most important skills in life, since nearly everything you do can be viewed as solving a problem. Therefore, improving as a problem solver is a lifelong challenge. In this course, we're going to look at a specific practice problem and talk about how to solve it. The goal of this is not just to solve that particular problem, but to draw some general lessons about how to get better as problem solvers in general.\n",
    "\n",
    "## Days Between Dates\n",
    "\n",
    "The particular problem that we'll be working on is called, \"Days Between Dates\", and it is:\n",
    "\n",
    "> Given your birthday and the current date, calculate your age in days. Compensate for leap days. Assume that the birthday and current date are correct dates (and no time travel). Simply put, if you were born on the 1 Jan, 2012, and today's date is 2 Jan, 2012. Then, you're 1 day old.\n",
    "\n",
    "## Step #1: Understanding the problem\n",
    "\n",
    "The hardest thing about solving a problem is how to get started.\n",
    "\n",
    "#### (Quiz) What might be the first thing to do when we meet the problem at the very first place?\n",
    "\n",
    "1. Start writing code \n",
    "    - It's often tempting to do it too early, but the problem with it before knowing what needs to be done is we might write the wrong code.\n",
    "2. Make sure we understand the problem\n",
    "    - It's the best option in general, and we'll cover what does it mean by \"understand the problem\" later.\n",
    "3. Search Google for the answer\n",
    "    - It can be a very good option if this weren't the practice problem. There can be good solutions out there already!\n",
    "4. Work out an algorithm that solves it\n",
    "    - Until we understand the problem well, we don't know what algorithm we should take.\n",
    "    \n",
    "What does it mean, \"to understand a (computational) problem\"? All computational problems have in common is that they have **inputs** and **(desired) outputs**. A solution to a problem is a procedure that can take any input in the possible sets and produce a desired output that satisfies the relationship we want.\n",
    "\n",
    "## Step #2: Understanding the inputs\n",
    "\n",
    "The very first rule you need to keep in mind when solving a problem is, \"Don't Panic! And keep calm!\" This is because if you panic, you will not be able to solve the problem. After then, the next thing you should do is to check what the inputs are. \n",
    "\n",
    "Let's figure out what are the inputs of the practice problem:\n",
    "\n",
    "- The inputs are two dates(your birthday and the current date).\n",
    "- What is the set of valid inputs?\n",
    "    - The second date should be after the first one.\n",
    "    - The dates should be valid in the Gregorian calendar, which started in October 1582.\n",
    "- How are inputs represented?\n",
    "    - Six different values will be given to represent those two dates. (e.g. year1, month1, day1, year2, month2, day2)\n",
    "    \n",
    "## Step #3: Understanding the outputs\n",
    "\n",
    "The desired output of the practice problem is the number of days between the first date and the second date.\n",
    "\n",
    "## Step #4: Understanding the relationship (w/ some examples)\n",
    "\n",
    "You can start coding if you're confident, but you'd better work out some examples to understand the relationship between inputs and outputs.\n",
    "\n",
    "#### (Quiz) For each, give the expected output or undefined if there is no defined output.\n",
    "\n",
    "- `days_between_dates(2012, 12, 7, 2012, 12, 7)`: 0\n",
    "- `days_between_dates(2012, 12, 7, 2012, 12, 8)`: 1\n",
    "- `days_between_dates(2012, 12, 8, 2012, 12, 7)`: undefined, since the second date is before the first date\n",
    "- `days_between_dates(2012, 6, 29, 2013, 6, 29)`: 365\n",
    "- `days_between_dates(2012, 6, 29, 2013, 6, 31)`: undefined, since there is no June 31st in Gregorian calendar.\n",
    "\n",
    "## Step #5: Consider systematically how a human solves the problem\n",
    "\n",
    "#### (Quiz) Find the days between 24 Jan, 2013 and 29 June, 2013.\n",
    "\n",
    "To solve the problem as a human, we might look at a calendar and count the days.\n",
    "\n",
    "- See how many days do we have left in Jan. (7 days)\n",
    "- Get the number of days in Feb, Mar, Apr, and May and add them up. (28, 31, 30, 31 days each)\n",
    "- Get the number of days until 29 June. (29 days)\n",
    "- Sum all those up! (156 days)\n",
    "\n",
    "## Step #6: Develop a simple mechanical solution first\n",
    "\n",
    "The very first approach suggested is to keep it simple as possible. How about starting on the day of first date, and just counting the days until we get the target date? If you're asked to do the job, you wouldn't want to do it. But a computer is quite good at doing the brain-dead approach. Once it turns out to be correct, you can come up with some better and efficient solutions later.\n",
    "\n",
    "#### Simple mechanical alrogithm\n",
    "```\n",
    "days = 0\n",
    "while date1 is before date2:\n",
    "  date1 = advance to next day\n",
    "  days += 1\n",
    "return days\n",
    "```\n",
    "\n",
    "#### (Quiz) What should we write first when implementing a simple mechanical algorithm?\n",
    "\n",
    "- `days_between_dates`: to solve whole problem\n",
    "    - Too early!\n",
    "- `next_day(year, month, day)`: to get the next day for simple case\n",
    "    - This is sort of the most important thing to make the solution work. \n",
    "- `is_leap_year(year)`: to determine if year is leap year\n",
    "    - Okay to do it, but since it's a painful to start at the first place, it's better to leave that until later.\n",
    "- `days_in_month(month)`: to get the number of days in a month\n",
    "    - Too early!"
   ]
  },
  {
   "cell_type": "code",
   "execution_count": 6,
   "metadata": {},
   "outputs": [],
   "source": [
    "from typing import Tuple\n",
    "\n",
    "def next_day(year: int, month: int, day: int) -> Tuple[int, int, int]:\n",
    "    \"\"\"\n",
    "    Returns year, month, and day of the next day.\n",
    "    This is a simple version, which assumes every month has 30 days.\n",
    "    \"\"\"\n",
    "    if day < 30:\n",
    "        return (year + 1, 1, 1)\n",
    "    else:\n",
    "        if month == 12:\n",
    "            return (year + 1, 1, 1)\n",
    "        else:\n",
    "            return (year, month + 1, 1)"
   ]
  },
  {
   "cell_type": "markdown",
   "metadata": {},
   "source": [
    "#### (Quiz) What should we do next?\n",
    "- refine `next_day` to work correctly for real months\n",
    "- define `days_between_dates` to give approximate answers using our `next_day` procedure\n",
    "    - Doing this first will give us a lot of confidence we're on the right track if this works."
   ]
  },
  {
   "cell_type": "code",
   "execution_count": 7,
   "metadata": {},
   "outputs": [],
   "source": [
    "def days_between_dates(year1: int, month1: int, day1: int,\n",
    "                       year2: int, month2: int, day2: int) -> int:\n",
    "    \"\"\"\n",
    "    Returns the number of days between year1/month1/day1 and year2/month2/day2.\n",
    "    Assumes that inputs are valid dates in Gregorian calendar.\n",
    "    And the first date is not after the second.\n",
    "    \"\"\""
   ]
  }
 ],
 "metadata": {
  "kernelspec": {
   "display_name": "Python 3",
   "language": "python",
   "name": "python3"
  },
  "language_info": {
   "codemirror_mode": {
    "name": "ipython",
    "version": 3
   },
   "file_extension": ".py",
   "mimetype": "text/x-python",
   "name": "python",
   "nbconvert_exporter": "python",
   "pygments_lexer": "ipython3",
   "version": "3.8.3"
  },
  "varInspector": {
   "cols": {
    "lenName": 16,
    "lenType": 16,
    "lenVar": 40
   },
   "kernels_config": {
    "python": {
     "delete_cmd_postfix": "",
     "delete_cmd_prefix": "del ",
     "library": "var_list.py",
     "varRefreshCmd": "print(var_dic_list())"
    },
    "r": {
     "delete_cmd_postfix": ") ",
     "delete_cmd_prefix": "rm(",
     "library": "var_list.r",
     "varRefreshCmd": "cat(var_dic_list()) "
    }
   },
   "types_to_exclude": [
    "module",
    "function",
    "builtin_function_or_method",
    "instance",
    "_Feature"
   ],
   "window_display": false
  }
 },
 "nbformat": 4,
 "nbformat_minor": 4
}
