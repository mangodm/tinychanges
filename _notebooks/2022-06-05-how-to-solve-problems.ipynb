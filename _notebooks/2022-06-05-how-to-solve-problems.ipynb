{
 "cells": [
  {
   "cell_type": "markdown",
   "metadata": {},
   "source": [
    "# (EN) How to Solve Problems\n",
    "> Learn how to solve problems in general.\n",
    "\n",
    "- toc: true \n",
    "- badges: true\n",
    "- comments: false\n",
    "- categories: [dsa, python, udacity]\n",
    "- image: images/chart-preview.png"
   ]
  },
  {
   "cell_type": "markdown",
   "metadata": {},
   "source": [
    "These are the notes taken from the Udacity's [Data Structures and Algorithms Nanodegree program](https://www.udacity.com/course/data-structures-and-algorithms-nanodegree--nd256).\n",
    "\n",
    "## How to Solve Problems\n",
    "\n",
    "Solving a problem is one of the most important skills in life, since nearly everything you do can be viewed as solving a problem. Therefore, improving as a problem solver is a lifelong challenge. In this course, we're going to look at a specific practice problem and talk about how to solve it. The goal of this is not just to solve that particular problem, but to draw some general lessons about how to get better as problem solvers in general.\n",
    "\n",
    "## Days Between Dates\n",
    "\n",
    "The particular problem that we'll be working on is called, \"Days Between Dates\", and it is:\n",
    "\n",
    "> Given your birthday and the current date, calculate your age in days. Compensate for leap days. Assume that the birthday and current date are correct dates (and no time travel). Simply put, if you were born on the 1 Jan, 2012, and today's date is 2 Jan, 2012. Then, you're 1 day old.\n",
    "\n",
    "## First Step: Understanding the problem\n",
    "\n",
    "The hardest thing about solving a problem is how to get started. What might be the first thing we should do when we meet the problem at the very first place?\n",
    "\n",
    "1. Start writing code \n",
    "    - It's often tempting to do it too early, but the problem with it before we understand the problem is we might write the wrong code.\n",
    "2. Make sure we understand the problem\n",
    "    - It's the best option in general, we'll cover what does it mean by \"understand the problem\" later.\n",
    "3. Search Google for the answer\n",
    "    - It can be a very good option if this weren't the practice problem. There can be good solutions out there already!\n",
    "4. Work out an algorithm that solves it\n",
    "    - Until we understand the problem well, we don't know what algorithm we should take.\n",
    "    \n",
    "## Understanding a Problem\n",
    "\n",
    "What does it mean, \"to understand a (computational) problem\"? All computational problems have in common is that they have **inputs**, and they have **outputs**."
   ]
  }
 ],
 "metadata": {
  "kernelspec": {
   "display_name": "Python 3",
   "language": "python",
   "name": "python3"
  },
  "language_info": {
   "codemirror_mode": {
    "name": "ipython",
    "version": 3
   },
   "file_extension": ".py",
   "mimetype": "text/x-python",
   "name": "python",
   "nbconvert_exporter": "python",
   "pygments_lexer": "ipython3",
   "version": "3.8.3"
  },
  "varInspector": {
   "cols": {
    "lenName": 16,
    "lenType": 16,
    "lenVar": 40
   },
   "kernels_config": {
    "python": {
     "delete_cmd_postfix": "",
     "delete_cmd_prefix": "del ",
     "library": "var_list.py",
     "varRefreshCmd": "print(var_dic_list())"
    },
    "r": {
     "delete_cmd_postfix": ") ",
     "delete_cmd_prefix": "rm(",
     "library": "var_list.r",
     "varRefreshCmd": "cat(var_dic_list()) "
    }
   },
   "types_to_exclude": [
    "module",
    "function",
    "builtin_function_or_method",
    "instance",
    "_Feature"
   ],
   "window_display": false
  }
 },
 "nbformat": 4,
 "nbformat_minor": 4
}
